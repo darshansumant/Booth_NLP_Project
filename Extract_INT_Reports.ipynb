{
 "cells": [
  {
   "cell_type": "code",
   "execution_count": 95,
   "metadata": {},
   "outputs": [
    {
     "ename": "ModuleNotFoundError",
     "evalue": "No module named 'pypdf2'",
     "output_type": "error",
     "traceback": [
      "\u001b[1;31m---------------------------------------------------------------------------\u001b[0m",
      "\u001b[1;31mModuleNotFoundError\u001b[0m                       Traceback (most recent call last)",
      "\u001b[1;32m<ipython-input-95-52670e4032b7>\u001b[0m in \u001b[0;36m<module>\u001b[1;34m()\u001b[0m\n\u001b[0;32m      4\u001b[0m \u001b[1;32mimport\u001b[0m \u001b[0mtime\u001b[0m\u001b[1;33m\u001b[0m\u001b[0m\n\u001b[0;32m      5\u001b[0m \u001b[1;33m\u001b[0m\u001b[0m\n\u001b[1;32m----> 6\u001b[1;33m \u001b[1;32mimport\u001b[0m \u001b[0mpypdf2\u001b[0m\u001b[1;33m\u001b[0m\u001b[0m\n\u001b[0m\u001b[0;32m      7\u001b[0m \u001b[1;31m#from urllib2 import Request, urlopen\u001b[0m\u001b[1;33m\u001b[0m\u001b[1;33m\u001b[0m\u001b[0m\n\u001b[0;32m      8\u001b[0m \u001b[1;31m#from pyPdf import PdfFileWriter, PdfFileReader\u001b[0m\u001b[1;33m\u001b[0m\u001b[1;33m\u001b[0m\u001b[0m\n",
      "\u001b[1;31mModuleNotFoundError\u001b[0m: No module named 'pypdf2'"
     ]
    }
   ],
   "source": [
    "import requests\n",
    "from bs4 import BeautifulSoup\n",
    "import pandas as pd\n",
    "import time\n",
    "\n",
    "import pypdf2\n",
    "#from urllib2 import Request, urlopen\n",
    "#from pyPdf import PdfFileWriter, PdfFileReader\n",
    "#from StringIO import StringIO"
   ]
  },
  {
   "cell_type": "code",
   "execution_count": 71,
   "metadata": {},
   "outputs": [],
   "source": [
    "base_url = 'http://www.worldbank.org/en/about/unit/integrity-vice-presidency/redacted-investigation-reports'\n",
    "response = requests.get(base_url)\n",
    "page = BeautifulSoup(response.text, 'html.parser')"
   ]
  },
  {
   "cell_type": "code",
   "execution_count": 80,
   "metadata": {},
   "outputs": [],
   "source": [
    "def get_report(url):\n",
    "    response = requests.get(url)\n",
    "    page = BeautifulSoup(response.text, 'html.parser')\n",
    "    \n",
    "    try:\n",
    "        doc_base = 'http://documents.worldbank.org'\n",
    "        doc_path = page.find('li', class_ = 'textdoc').find('a').attrs['href']\n",
    "        doc_url = doc_base + doc_path\n",
    "        \n",
    "        response = requests.get(doc_url)\n",
    "        page = BeautifulSoup(response.text, 'html.parser')\n",
    "\n",
    "        return page.getText()\n",
    "\n",
    "    except:\n",
    "        return ''"
   ]
  },
  {
   "cell_type": "code",
   "execution_count": 81,
   "metadata": {},
   "outputs": [],
   "source": [
    "div_list = page.find_all('div', id = 'n02v11-content')\n",
    "\n",
    "list_of_reports = []\n",
    "\n",
    "# Loop over all the months, for which reports made publicly available\n",
    "for div in div_list:\n",
    "    reporting_month = div.find('h4', class_ = 'sub mrg-b-3').text\n",
    "    \n",
    "    # Loop Over all the reports published in the particular month\n",
    "    for a in div.find_all('a'):\n",
    "        next_url = a.attrs['href']\n",
    "        \n",
    "        # Get relevant project information into a dictionary\n",
    "        d = {}\n",
    "        d['project'] = a.text\n",
    "        d['report']  = get_report(next_url)\n",
    "        \n",
    "        # Append the relevant project information to the larger list\n",
    "        list_of_reports.append(d)\n",
    "\n",
    "df_reports = pd.DataFrame(list_of_reports)"
   ]
  },
  {
   "cell_type": "code",
   "execution_count": 42,
   "metadata": {},
   "outputs": [],
   "source": [
    "#url = a.attrs['href']\n",
    "url = 'http://documents.worldbank.org/curated/en/771841520832963508/India-Maharashtra-Water-Sector-Improvement-Project-INT-redacted-report'\n",
    "response = requests.get(url)\n",
    "page = BeautifulSoup(response.text, 'html.parser')"
   ]
  },
  {
   "cell_type": "code",
   "execution_count": 86,
   "metadata": {},
   "outputs": [
    {
     "data": {
      "text/plain": [
       "project    Sierra Leone Rural and Private Sector Developm...\n",
       "report                                                      \n",
       "Name: 22, dtype: object"
      ]
     },
     "execution_count": 86,
     "metadata": {},
     "output_type": "execute_result"
    }
   ],
   "source": [
    "#df_reports['report'] == ''\n",
    "df_reports.loc[22]"
   ]
  },
  {
   "cell_type": "code",
   "execution_count": 89,
   "metadata": {},
   "outputs": [],
   "source": [
    "test_url = 'http://pubdocs.worldbank.org/en/995081455826777589/Sierra-Leone-Rural-and-Private-Sector-Development-Project-Redacted-Report.pdf'"
   ]
  },
  {
   "cell_type": "code",
   "execution_count": null,
   "metadata": {},
   "outputs": [],
   "source": []
  }
 ],
 "metadata": {
  "kernelspec": {
   "display_name": "Python 3",
   "language": "python",
   "name": "python3"
  },
  "language_info": {
   "codemirror_mode": {
    "name": "ipython",
    "version": 3
   },
   "file_extension": ".py",
   "mimetype": "text/x-python",
   "name": "python",
   "nbconvert_exporter": "python",
   "pygments_lexer": "ipython3",
   "version": "3.6.4"
  }
 },
 "nbformat": 4,
 "nbformat_minor": 2
}
